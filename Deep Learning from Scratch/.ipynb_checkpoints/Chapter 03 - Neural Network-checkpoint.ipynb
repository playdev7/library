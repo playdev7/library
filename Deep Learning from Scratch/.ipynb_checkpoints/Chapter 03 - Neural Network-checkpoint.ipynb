{
 "cells": [
  {
   "cell_type": "markdown",
   "id": "91214186",
   "metadata": {},
   "source": [
    "# Deep Learning for Scratch  \n",
    "Chapter 03 - Neural Network  \n",
    "---   \n",
    "2023-07-10 / Dohyeon Kwon"
   ]
  },
  {
   "cell_type": "markdown",
   "id": "46856ebd",
   "metadata": {},
   "source": [
    "## 신경망  \n",
    "퍼셉트론에 전달되는 가중치 매개변수 w의 적절한 값을 데이터를 통해 자동으로 학습하도록 설계한 네트워크.  \n",
    "- 입력(x)들이 들어오는 입력층  \n",
    "- 중간에서 연산을 진행하는 은닉층  \n",
    "- 결과를 출력(y) 하는 출력층 으로 구성된다.   \n",
    "\n",
    "뉴런의 층수는 은닉층을 0으로 하는 것 부터 시작한다.  \n",
    "신경망의 층수는 보통 가중치를 가지는 층의 개수로 표현한다.  \n",
    "(가장 큰 뉴런의 층으로 표현하는 논문도 있다.)"
   ]
  },
  {
   "cell_type": "markdown",
   "id": "282cae75",
   "metadata": {},
   "source": [
    "## 퍼셉트론의 이해\n",
    "퍼셉트론을 이해하면 신경망도 쉽게 이해할 수 있다.  \n",
    "\n",
    "$x_{1}$ 과 $x_{2}$ 를 입력받아 y를 출력하는 퍼셉트론의 수식   \n",
    "$y = h(b+w_{1}x_{1}+w_{2}x_{2})$  \n",
    "$h(x) =\\begin{cases}0(x\\leq 0) &\\\\ 1(x>0)\\end{cases} $   \n",
    "\n",
    "여기서 b는 뉴런이 얼마나 쉽게 활성화 되는지를 제어하는 편향(bias) 매개변수이다.   \n",
    "$x_{1}$ 과 $x_{2}$ 는 각 신호의 영향력을 제어하는 신호의 가중치(weight) 매개변수이다.\n",
    "\n",
    "수식을 퍼셉트론으로 보면\n",
    "- $w_{1}$, $w_{2}$, $b$ 세 개의 신호가 입력층 뉴런에 각각 입력된다.\n",
    "- 각 뉴런은 신호에 가중치를 곱해서 $y$ 뉴런으로 전달한다.  \n",
    "- $y$ 뉴런은 전달받은 값을 모두 더하여 0을 초과하면 1을, 그렇지 않으면 0을 출력한다.  \n",
    "\n",
    "$h(x)$는 $y$ 뉴런의 출력과 관련한 조건분기 동작을 하나의 함수로 나타낸 것이다.  \n",
    "입력신호의 총합을 출력신호로 변환하는 함수 $h(x)$ 를 Activation Function 이라고 한다.\n",
    "\n"
   ]
  },
  {
   "cell_type": "markdown",
   "id": "e51ec30b",
   "metadata": {},
   "source": [
    "## 신경망의 신호 전달 방법  "
   ]
  },
  {
   "cell_type": "markdown",
   "id": "b680487b",
   "metadata": {},
   "source": [
    "## 3층 신경망의 구현"
   ]
  },
  {
   "cell_type": "code",
   "execution_count": 2,
   "id": "89b8a243",
   "metadata": {},
   "outputs": [
    {
     "ename": "NameError",
     "evalue": "name 'sigmoid' is not defined",
     "output_type": "error",
     "traceback": [
      "\u001b[0;31m---------------------------------------------------------------------------\u001b[0m",
      "\u001b[0;31mNameError\u001b[0m                                 Traceback (most recent call last)",
      "Cell \u001b[0;32mIn[2], line 33\u001b[0m\n\u001b[1;32m     31\u001b[0m network \u001b[38;5;241m=\u001b[39m init_network()\n\u001b[1;32m     32\u001b[0m x \u001b[38;5;241m=\u001b[39m np\u001b[38;5;241m.\u001b[39marray([\u001b[38;5;241m1.0\u001b[39m, \u001b[38;5;241m0.5\u001b[39m])\n\u001b[0;32m---> 33\u001b[0m y \u001b[38;5;241m=\u001b[39m \u001b[43mforward\u001b[49m\u001b[43m(\u001b[49m\u001b[43mnetwork\u001b[49m\u001b[43m,\u001b[49m\u001b[43m \u001b[49m\u001b[43mx\u001b[49m\u001b[43m)\u001b[49m\n\u001b[1;32m     35\u001b[0m \u001b[38;5;28mprint\u001b[39m(y)\n",
      "Cell \u001b[0;32mIn[2], line 23\u001b[0m, in \u001b[0;36mforward\u001b[0;34m(network, x)\u001b[0m\n\u001b[1;32m     20\u001b[0m b1, b2, b3 \u001b[38;5;241m=\u001b[39m network[\u001b[38;5;124m\"\u001b[39m\u001b[38;5;124mb1\u001b[39m\u001b[38;5;124m\"\u001b[39m], network[\u001b[38;5;124m\"\u001b[39m\u001b[38;5;124mb2\u001b[39m\u001b[38;5;124m\"\u001b[39m], network[\u001b[38;5;124m\"\u001b[39m\u001b[38;5;124mb3\u001b[39m\u001b[38;5;124m\"\u001b[39m]\n\u001b[1;32m     22\u001b[0m a1 \u001b[38;5;241m=\u001b[39m np\u001b[38;5;241m.\u001b[39mdot(x, W1) \u001b[38;5;241m+\u001b[39m b1\n\u001b[0;32m---> 23\u001b[0m z1 \u001b[38;5;241m=\u001b[39m \u001b[43msigmoid\u001b[49m(a1)\n\u001b[1;32m     24\u001b[0m a2 \u001b[38;5;241m=\u001b[39m np\u001b[38;5;241m.\u001b[39mdot(z1, W2) \u001b[38;5;241m+\u001b[39m b2\n\u001b[1;32m     25\u001b[0m z2 \u001b[38;5;241m=\u001b[39m sigmoid(a2)\n",
      "\u001b[0;31mNameError\u001b[0m: name 'sigmoid' is not defined"
     ]
    }
   ],
   "source": [
    "import numpy as np\n",
    "\n",
    "# Activation Function - sigmiod func.\n",
    "def sigmiod(x):\n",
    "    return 1 / (1 + np.exp(-x))\n",
    "\n",
    "def init_network():\n",
    "    network = dict()\n",
    "    network[\"W1\"] = np.array([[0.1, 0.3, 0.5], [0.2, 0.4, 0.6]])\n",
    "    network[\"b1\"] = np.array([0.1, 0.2, 0.3])\n",
    "    network[\"W2\"] = np.array([[0.1, 0.4], [0.2, 0.5], [0.3, 0.6]])\n",
    "    network[\"b2\"] = np.array([0.1, 0.2])\n",
    "    network[\"W3\"] = np.array([[0.1, 0.3], [0.2, 0.4]])\n",
    "    network[\"b3\"] = np.array([0.1, 0.2])\n",
    "    \n",
    "    return network\n",
    "\n",
    "def forward(network, x):\n",
    "    W1, W2, W3 = network[\"W1\"], network[\"W1\"], network[\"W1\"]\n",
    "    b1, b2, b3 = network[\"b1\"], network[\"b2\"], network[\"b3\"]\n",
    "    \n",
    "    a1 = np.dot(x, W1) + b1\n",
    "    z1 = sigmoid(a1)\n",
    "    a2 = np.dot(z1, W2) + b2\n",
    "    z2 = sigmoid(a2)\n",
    "    a3 = np.dot(z2, W3) + b3\n",
    "    y = identity_function(a3)\n",
    "    \n",
    "    return y\n",
    "\n",
    "network = init_network()\n",
    "x = np.array([1.0, 0.5])\n",
    "y = forward(network, x)\n",
    "\n",
    "print(y)"
   ]
  }
 ],
 "metadata": {
  "kernelspec": {
   "display_name": "Python 3 (ipykernel)",
   "language": "python",
   "name": "python3"
  },
  "language_info": {
   "codemirror_mode": {
    "name": "ipython",
    "version": 3
   },
   "file_extension": ".py",
   "mimetype": "text/x-python",
   "name": "python",
   "nbconvert_exporter": "python",
   "pygments_lexer": "ipython3",
   "version": "3.10.9"
  }
 },
 "nbformat": 4,
 "nbformat_minor": 5
}
