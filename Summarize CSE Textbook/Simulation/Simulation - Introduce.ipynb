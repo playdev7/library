{
 "cells": [
  {
   "cell_type": "markdown",
   "id": "e0a26f5c-1e7c-4819-a707-63b1f0c0f042",
   "metadata": {},
   "source": [
    "# Simulation - Introduce\n",
    "---\n",
    "Summarize CSE Textbook from Korea National Open Univ.  \n",
    "written by Dohyeon Kwon at 2023-07-16\n",
    "\n",
    "\n",
    "\n"
   ]
  },
  {
   "cell_type": "markdown",
   "id": "f747e984-cc41-4f2e-a4c4-ee7e3f937364",
   "metadata": {},
   "source": [
    "## 학습 목표\n",
    "- 시뮬레이션의 개념 이해\n",
    "- 모델링과 시뮬레이션을 수행하는데 필요한 기본 지식과 이론 학습"
   ]
  },
  {
   "cell_type": "markdown",
   "id": "9c7b8fb2-bfcf-488a-a31e-8a950071447e",
   "metadata": {},
   "source": [
    "## Part  \n",
    "총 3개 Part 와 10개 Chapter로 구성된다.  "
   ]
  },
  {
   "cell_type": "markdown",
   "id": "bba851f6-88dd-41f9-b8fc-c6b5147bf4b7",
   "metadata": {},
   "source": [
    "### Part I  \n",
    "간단한 시뮬레이션 관련 예제들과 이를 해결하는 알고리즘을 다룬다.  \n",
    "아래의 내용에 대해 실습을 진행한다.\n",
    "- 시뮬레이션을 위한 문제 제시\n",
    "- 문제 해결을 위한 방법과 알고리즘 개념\n",
    "- 시뮬레이션 결과 분석"
   ]
  },
  {
   "cell_type": "markdown",
   "id": "d732ff55-edae-45ef-8495-f36d0f818253",
   "metadata": {},
   "source": [
    "### Part II\n",
    "시뮬레이션 언어를 비롯하여 Part I 에서 다루지 않았던 모델링과 시뮬레이션 관련 이론을 심화적으로 학습한다.  \n",
    "아래의 실습 및 실험 과정을 거쳐 시뮬레이션에 대한 이해력을 증진시킨다.\n",
    "- C, Java 프로그램을 통해 구현된 시뮬레이션 예제를 통한 실습\n",
    "- 준비된 Toolkit을 활용하여 좀 더 다양한 조건에서 시뮬레이션 실험"
   ]
  },
  {
   "cell_type": "markdown",
   "id": "d2a51982-4977-4aad-9434-f0a75a235af1",
   "metadata": {},
   "source": [
    "### Part III\n",
    "**네트워크 시뮬레이션 언어**를 직접 사용하여 실습한다.  \n",
    "Riverbed Modeler Academic Edition 을 활용하여 네트워크 시뮬레이션을 직접 경험할 수 있게 된다.  \n",
    "- Shared Ethernet Network 모델 구성 및 성능평가\n",
    "\n",
    "\n",
    "\n"
   ]
  },
  {
   "cell_type": "markdown",
   "id": "bcdc9c85-8370-4979-82a8-b3e816c72c62",
   "metadata": {},
   "source": [
    "## 학습 활동 7단계  \n",
    "1. 개념 - 학습 내용을 소개한다.\n",
    "2. 예제 - 시뮬레이션 예제를 소개한다.\n",
    "3. 풀이 - 문제 해결을 위한 방법을 설명한다.\n",
    "4. 알고리즘 - 해결 방법을 알고리즘으로 표현하는 과정을 설명한다.\n",
    "5. 프로그램 - (준비된) C, Java 프로그램을 확인한다.\n",
    "6. 결과분석 - 시뮬레이션 실행 결과에 대한 분석을 진행한다.\n",
    "7. 툴킷 - 기초 개념을 정리 및 확인한다.  \n",
    "    응용 범위를 확장하여 고도의 학습을 진행한다."
   ]
  },
  {
   "cell_type": "markdown",
   "id": "62174162-34e5-408e-9bfc-7eeef88531d5",
   "metadata": {},
   "source": [
    "## Jupyter 환경에서 학습을 위한 준비  \n",
    "C 및 Java 프로그램 실행을 위한 커널 확인 및 설치  "
   ]
  },
  {
   "cell_type": "markdown",
   "id": "3d3284ed-d3be-4a30-82c7-3831be71baff",
   "metadata": {},
   "source": [
    "### Jupyter Kernel 정보 확인  \n",
    "\"!\" 기호를 접두사로 하면 코드셀을 Terminal 환경을 사용할 수 있다."
   ]
  },
  {
   "cell_type": "code",
   "execution_count": 3,
   "id": "3659ade2-5957-4e12-b260-d70e33d5bc42",
   "metadata": {},
   "outputs": [
    {
     "name": "stdout",
     "output_type": "stream",
     "text": [
      "Available kernels:\n",
      "  python3    /Users/dokw/anaconda3/share/jupyter/kernels/python3\n"
     ]
    }
   ],
   "source": [
    "!jupyter kernelspec list"
   ]
  },
  {
   "cell_type": "markdown",
   "id": "04d3b8bc-b1c9-4b55-a837-450e552e2a34",
   "metadata": {},
   "source": [
    "### C 커널 설치  \n",
    "pip를 통해 jupyper-c-kernel을 설치한다.  \n",
    "이후 Juypter Kernel 영역에 배치한다."
   ]
  },
  {
   "cell_type": "code",
   "execution_count": 19,
   "id": "16e95869-8413-4f6e-9d63-27156ce512e1",
   "metadata": {},
   "outputs": [
    {
     "name": "stdout",
     "output_type": "stream",
     "text": [
      "Collecting jupyter-c-kernel\n",
      "  Downloading jupyter_c_kernel-1.2.2.tar.gz (4.4 kB)\n",
      "  Preparing metadata (setup.py) ... \u001b[?25ldone\n",
      "\u001b[?25hBuilding wheels for collected packages: jupyter-c-kernel\n",
      "  Building wheel for jupyter-c-kernel (setup.py) ... \u001b[?25ldone\n",
      "\u001b[?25h  Created wheel for jupyter-c-kernel: filename=jupyter_c_kernel-1.2.2-py3-none-any.whl size=6594 sha256=b0ae4be713cdf46090c08a79898b4b8c15167b95c9bedcb1563c472153faaaaa\n",
      "  Stored in directory: /Users/dokw/Library/Caches/pip/wheels/46/eb/3e/06f5806a4bf5289af1a7425e97b40fbea4ca0e5797be665890\n",
      "Successfully built jupyter-c-kernel\n",
      "Installing collected packages: jupyter-c-kernel\n",
      "Successfully installed jupyter-c-kernel-1.2.2\n"
     ]
    }
   ],
   "source": [
    "!pip install jupyter-c-kernel"
   ]
  },
  {
   "cell_type": "code",
   "execution_count": 3,
   "id": "71cd340e-95b0-4328-953b-87829b807ce6",
   "metadata": {},
   "outputs": [
    {
     "name": "stdout",
     "output_type": "stream",
     "text": [
      "Installing IPython kernel spec\n",
      "/Users/dokw/anaconda3/bin/install_c_kernel:32: DeprecationWarning: replace is ignored. Installing a kernelspec always replaces an existing installation\n",
      "  KernelSpecManager().install_kernel_spec(td, 'c', user=user, replace=True, prefix=prefix)\n"
     ]
    }
   ],
   "source": [
    "# Jupyter 커널 영역에 배치  \n",
    "!install_c_kernel --user"
   ]
  },
  {
   "cell_type": "markdown",
   "id": "0cd5ecd7-f864-4d38-8539-2ef8ceb69cbe",
   "metadata": {},
   "source": [
    "### Java 커널 설치\n",
    "GitHub를 통해 공유되고 있는 IJava 패키지를 설치한다.  \n",
    "https://github.com/SpencerPark/IJava/releases"
   ]
  },
  {
   "cell_type": "code",
   "execution_count": 6,
   "id": "26ef01d9-7337-4bdf-83e8-141fc10f7ea1",
   "metadata": {},
   "outputs": [
    {
     "name": "stdout",
     "output_type": "stream",
     "text": [
      "/Users/dokw/Library/CloudStorage/OneDrive-개인/gitrepo/library/Simulation - KNOU/src/ijava-1.3.0/install.py:164: DeprecationWarning: replace is ignored. Installing a kernelspec always replaces an existing installation\n",
      "  install_dest = KernelSpecManager().install_kernel_spec(\n",
      "Installed java kernel into \"/Users/dokw/anaconda3/share/jupyter/kernels/java\"\n"
     ]
    }
   ],
   "source": [
    "!python3 src/ijava-1.3.0/install.py --sys-prefix"
   ]
  },
  {
   "cell_type": "markdown",
   "id": "569c3996-48a8-46d7-847f-b01c2ce22d33",
   "metadata": {},
   "source": [
    "### 커널 정보 최종 확인  \n",
    "Jupyter Server 를 재가동하면 최신 상태의 커널 정보를 확인할 수 있다."
   ]
  },
  {
   "cell_type": "code",
   "execution_count": 4,
   "id": "d1c40920-7f95-4516-af84-14a0a7172d0e",
   "metadata": {},
   "outputs": [
    {
     "name": "stdout",
     "output_type": "stream",
     "text": [
      "Available kernels:\n",
      "  c          /Users/dokw/Library/Jupyter/kernels/c\n",
      "  java       /Users/dokw/anaconda3/share/jupyter/kernels/java\n",
      "  python3    /Users/dokw/anaconda3/share/jupyter/kernels/python3\n"
     ]
    }
   ],
   "source": [
    "!jupyter kernelspec list"
   ]
  }
 ],
 "metadata": {
  "kernelspec": {
   "display_name": "Python 3 (ipykernel)",
   "language": "python",
   "name": "python3"
  },
  "language_info": {
   "codemirror_mode": {
    "name": "ipython",
    "version": 3
   },
   "file_extension": ".py",
   "mimetype": "text/x-python",
   "name": "python",
   "nbconvert_exporter": "python",
   "pygments_lexer": "ipython3",
   "version": "3.10.9"
  }
 },
 "nbformat": 4,
 "nbformat_minor": 5
}
